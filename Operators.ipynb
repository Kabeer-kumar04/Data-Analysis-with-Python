{
 "cells": [
  {
   "cell_type": "code",
   "execution_count": 1,
   "metadata": {},
   "outputs": [
    {
     "name": "stdout",
     "output_type": "stream",
     "text": [
      "30\n",
      "10\n",
      "2.0\n",
      "200\n",
      "2\n",
      "0\n",
      "10240000000000\n"
     ]
    }
   ],
   "source": [
    "# Arthimetic Operations\n",
    "\n",
    "x = 20\n",
    "y = 10\n",
    "\n",
    "\n",
    "add = x + y  # addition\n",
    "minus = x - y  # substract\n",
    "divide = x / y  # divide\n",
    "multiply = x * y  # multiply\n",
    "floor_division = x // y  # floor_division\n",
    "modulus_result = x % y  # modulus_result\n",
    "exponent_result = x**y  # exponent_result\n",
    "\n",
    "\n",
    "print(add)\n",
    "print(minus)\n",
    "print(divide)\n",
    "print(multiply)\n",
    "print(floor_division)\n",
    "print(modulus_result)\n",
    "print(exponent_result)"
   ]
  },
  {
   "cell_type": "code",
   "execution_count": 5,
   "metadata": {},
   "outputs": [
    {
     "name": "stdout",
     "output_type": "stream",
     "text": [
      "False\n",
      "True\n"
     ]
    }
   ],
   "source": [
    "## Comparison Operators\n",
    "## == Equal to\n",
    "\n",
    "equal_to = x == y\n",
    "\n",
    "str_1 = \"kabeer\"\n",
    "str_2 = \"kabeer\"\n",
    "Equal_to = str_1 == str_2\n",
    "\n",
    "print(equal_to)\n",
    "print(Equal_to)"
   ]
  },
  {
   "cell_type": "code",
   "execution_count": 6,
   "metadata": {},
   "outputs": [
    {
     "name": "stdout",
     "output_type": "stream",
     "text": [
      "True\n",
      "False\n"
     ]
    }
   ],
   "source": [
    "## != Equal to\n",
    "\n",
    "equal_to = x != y\n",
    "\n",
    "str_1 = \"kabeer\"\n",
    "str_2 = \"kabeer\"\n",
    "Equal_to = str_1 != str_2\n",
    "\n",
    "print(equal_to)\n",
    "print(Equal_to)"
   ]
  },
  {
   "cell_type": "code",
   "execution_count": 11,
   "metadata": {},
   "outputs": [
    {
     "data": {
      "text/plain": [
       "True"
      ]
     },
     "execution_count": 11,
     "metadata": {},
     "output_type": "execute_result"
    }
   ],
   "source": [
    "# greater than, Less than, greater than or equal to, less than or equal to.\n",
    "\n",
    "x > y"
   ]
  },
  {
   "cell_type": "code",
   "execution_count": 12,
   "metadata": {},
   "outputs": [
    {
     "data": {
      "text/plain": [
       "False"
      ]
     },
     "execution_count": 12,
     "metadata": {},
     "output_type": "execute_result"
    }
   ],
   "source": [
    "x < y\n",
    "\n"
   ]
  },
  {
   "cell_type": "code",
   "execution_count": 13,
   "metadata": {},
   "outputs": [
    {
     "data": {
      "text/plain": [
       "True"
      ]
     },
     "execution_count": 13,
     "metadata": {},
     "output_type": "execute_result"
    }
   ],
   "source": [
    "x >= y\n"
   ]
  },
  {
   "cell_type": "code",
   "execution_count": 14,
   "metadata": {},
   "outputs": [
    {
     "data": {
      "text/plain": [
       "False"
      ]
     },
     "execution_count": 14,
     "metadata": {},
     "output_type": "execute_result"
    }
   ],
   "source": [
    "x <= y"
   ]
  },
  {
   "cell_type": "code",
   "execution_count": 15,
   "metadata": {},
   "outputs": [
    {
     "name": "stdout",
     "output_type": "stream",
     "text": [
      "False\n"
     ]
    }
   ],
   "source": [
    "# And, or, Not\n",
    "\n",
    "x = True\n",
    "y = False\n",
    "\n",
    "print(x and y)"
   ]
  },
  {
   "cell_type": "code",
   "execution_count": 16,
   "metadata": {},
   "outputs": [
    {
     "name": "stdout",
     "output_type": "stream",
     "text": [
      "True\n"
     ]
    }
   ],
   "source": [
    "x = True\n",
    "y = True\n",
    "\n",
    "print(x and y)"
   ]
  },
  {
   "cell_type": "code",
   "execution_count": 19,
   "metadata": {},
   "outputs": [
    {
     "name": "stdout",
     "output_type": "stream",
     "text": [
      "True\n"
     ]
    }
   ],
   "source": [
    "x = False\n",
    "y = True\n",
    "\n",
    "print(x or y)"
   ]
  },
  {
   "cell_type": "code",
   "execution_count": 23,
   "metadata": {},
   "outputs": [
    {
     "name": "stdout",
     "output_type": "stream",
     "text": [
      "6.0\n",
      "2.0\n",
      "8.0\n",
      "2.0\n",
      "2.0\n",
      "0.0\n",
      "16.0\n"
     ]
    }
   ],
   "source": [
    "# simple calculator\n",
    "\n",
    "num_1 = float(input(\"Enter first number: \"))\n",
    "num_2 = float(input(\"Enter second number: \"))\n",
    "\n",
    "print(num_1 + num_2)\n",
    "print(num_1 - num_2)\n",
    "print(num_1 * num_2)\n",
    "print(num_1 / num_2)\n",
    "print(num_1 // num_2)\n",
    "print(num_1 % num_2)\n",
    "print(num_1**num_2)"
   ]
  },
  {
   "cell_type": "code",
   "execution_count": 1,
   "metadata": {},
   "outputs": [
    {
     "name": "stdout",
     "output_type": "stream",
     "text": [
      "my name is kabeer\n"
     ]
    }
   ],
   "source": [
    "# just for the testing purpose\n",
    "\n",
    "user_input = input(\"Enter anything you want\")\n",
    "\n",
    "print(user_input)"
   ]
  },
  {
   "cell_type": "code",
   "execution_count": null,
   "metadata": {},
   "outputs": [],
   "source": []
  }
 ],
 "metadata": {
  "kernelspec": {
   "display_name": "Python 3",
   "language": "python",
   "name": "python3"
  },
  "language_info": {
   "codemirror_mode": {
    "name": "ipython",
    "version": 3
   },
   "file_extension": ".py",
   "mimetype": "text/x-python",
   "name": "python",
   "nbconvert_exporter": "python",
   "pygments_lexer": "ipython3",
   "version": "3.12.7"
  }
 },
 "nbformat": 4,
 "nbformat_minor": 2
}
